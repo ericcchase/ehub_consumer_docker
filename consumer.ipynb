{
 "cells": [
  {
   "cell_type": "markdown",
   "metadata": {},
   "source": [
    "# consumer"
   ]
  },
  {
   "cell_type": "code",
   "execution_count": 12,
   "metadata": {},
   "outputs": [],
   "source": [
    "# requirements #\n",
    "import numpy as np \n",
    "import pandas as pd \n",
    "import asyncio\n",
    "from azure.eventhub import EventData, EventHubConsumerClient, PartitionContext\n",
    "from azure.storage import filedatalake\n",
    "######\n",
    "import time \n",
    "from io import BytesIO as bio \n",
    "import pickle \n",
    "import json \n",
    "import logging\n",
    "logger = logging.getLogger(\"azure.eventhub\")"
   ]
  },
  {
   "cell_type": "code",
   "execution_count": 13,
   "metadata": {},
   "outputs": [],
   "source": [
    "ehub_conn_str = \"Endpoint=sb://eventhubs-ns-1.servicebus.windows.net/;SharedAccessKeyName=RootManageSharedAccessKey;SharedAccessKey=Q2mbJQ5jgawhS5k+uVNFEOUgI2AhpujuQkv+zRT8gNg=\"\n",
    "ehub_name = 'ehub1'\n",
    "consumer_group = 'consumergrp1'\n",
    "##########\n",
    "datalake_conn_str = 'DefaultEndpointsProtocol=https;AccountName=ehubdatalake;AccountKey=0WKR2WkRMhZVpBdHlzzqC+zmXeECfoAo+26OBUynCUrK2++vmeHPfN2O4DQsV2RJBgUbwYDES7S1ktPcK1G4tA==;EndpointSuffix=core.windows.net'\n",
    "dlake = filedatalake.DataLakeServiceClient.from_connection_string(\n",
    "    conn_str=datalake_conn_str\n",
    ")\n",
    "file_system = 'consumerdata'"
   ]
  },
  {
   "cell_type": "code",
   "execution_count": 14,
   "metadata": {},
   "outputs": [],
   "source": [
    "# dlake.create_file_system('consumerdata')\n",
    "file = dlake.get_file_client(file_system, 'events/test1')"
   ]
  },
  {
   "cell_type": "code",
   "execution_count": 67,
   "metadata": {},
   "outputs": [],
   "source": []
  },
  {
   "cell_type": "code",
   "execution_count": 87,
   "metadata": {},
   "outputs": [
    {
     "data": {
      "text/plain": [
       "{'a': 'asdf', 'b': 3492}"
      ]
     },
     "execution_count": 87,
     "metadata": {},
     "output_type": "execute_result"
    }
   ],
   "source": [
    "# with json\n",
    "file.upload_data(json.dumps(dict(a='asdf', b=3492)), overwrite=True)\n",
    "json.loads(bio(file.download_file().readall()).read())"
   ]
  },
  {
   "cell_type": "code",
   "execution_count": 75,
   "metadata": {},
   "outputs": [
    {
     "data": {
      "text/plain": [
       "{'a': 'asdf', 'b': 3492}"
      ]
     },
     "execution_count": 75,
     "metadata": {},
     "output_type": "execute_result"
    }
   ],
   "source": [
    "# with pickle\n",
    "file.upload_data(pickle.dumps(dict(a='asdf', b=3492)), overwrite=True)\n",
    "pickle.loads(bio(file.download_file().readall()).read())"
   ]
  },
  {
   "cell_type": "code",
   "execution_count": 73,
   "metadata": {},
   "outputs": [
    {
     "data": {
      "text/plain": [
       "{'a': 'asdf', 'b': 3492}"
      ]
     },
     "execution_count": 73,
     "metadata": {},
     "output_type": "execute_result"
    }
   ],
   "source": [
    "json.loads(bio(file.download_file().readall()).read())"
   ]
  },
  {
   "cell_type": "markdown",
   "metadata": {},
   "source": [
    "# catch events and upload to dlake"
   ]
  },
  {
   "cell_type": "markdown",
   "metadata": {},
   "source": [
    "# binary events"
   ]
  },
  {
   "cell_type": "code",
   "execution_count": 17,
   "metadata": {
    "scrolled": true
   },
   "outputs": [
    {
     "name": "stdout",
     "output_type": "stream",
     "text": [
      "[[5.204201902816778, 133.57117333313684, 158.28522559290937], [4.767382921362228, 142.26051573765682, 135.08494066686697], [6.5085422435454605, 127.11965760330047, 149.67587632314556], [4.731306965513948, 124.03762754778153, 153.3464256287288], [5.467131088011919, 140.96279735494738, 149.28641191957936]]\n",
      "[[5.1250230201507865, 118.66823648036699, 130.63068658072234], [5.804795671633542, 138.41868057957055, 143.1079514455482], [6.446577957712487, 127.36414819887352, 137.49581707441058], [6.1472234635229, 136.62957320445136, 128.6657020510627], [5.829338048010589, 127.24029693355733, 145.35884243166697]]\n"
     ]
    }
   ],
   "source": [
    "consumer = EventHubConsumerClient.from_connection_string(\n",
    "    conn_str=ehub_conn_str, \n",
    "    consumer_group=consumer_group, \n",
    "    eventhub_name=ehub_name,\n",
    "    logging_enable=True\n",
    ")\n",
    "\n",
    "eventobj = None \n",
    "start = time.time()\n",
    "\n",
    "def on_event(partition_context: PartitionContext, event: EventData):\n",
    "    # local checks\n",
    "    global eventobj\n",
    "    eventobj = event \n",
    "    for record in event.body: \n",
    "        print(json.loads(record))\n",
    "        # datalake storage\n",
    "        file = dlake.get_file_client(file_system, f'events/{event.sequence_number}')\n",
    "        file.upload_data(record, overwrite=True)\n",
    "        # If the operation is i/o intensive, multi-thread will have better performance.\n",
    "    logger.info(\"Received event from partition: {}\".format(partition_context.partition_id))\n",
    "    secs = (time.time() - start)\n",
    "    if secs > 30:\n",
    "        consumer.close()\n",
    "\n",
    "\n",
    "with consumer:\n",
    "    consumer.receive(\n",
    "        on_event=on_event,\n",
    "#         partition_id=0\n",
    "        prefetch=300, \n",
    "        starting_position=\"@latest\",   # \"@latest\" for receiving only new events.\n",
    "#         starting_position=-1,  \n",
    "    )"
   ]
  },
  {
   "cell_type": "code",
   "execution_count": null,
   "metadata": {},
   "outputs": [],
   "source": []
  },
  {
   "cell_type": "markdown",
   "metadata": {},
   "source": [
    "# string events"
   ]
  },
  {
   "cell_type": "code",
   "execution_count": 97,
   "metadata": {
    "scrolled": true
   },
   "outputs": [
    {
     "name": "stdout",
     "output_type": "stream",
     "text": [
      "nb Event 1\n",
      "nb Event 2\n",
      "nb Event 3\n",
      "nb Event 1\n"
     ]
    }
   ],
   "source": [
    "consumer = EventHubConsumerClient.from_connection_string(\n",
    "    conn_str=ehub_conn_str, \n",
    "    consumer_group=consumer_group, \n",
    "    eventhub_name=ehub_name,\n",
    "    logging_enable=True\n",
    ")\n",
    "\n",
    "eventobj = None \n",
    "start = time.time()\n",
    "\n",
    "def on_event(partition_context: PartitionContext, event: EventData):\n",
    "    # local checks\n",
    "    global eventobj\n",
    "    eventobj = event \n",
    "    print(event.body_as_str())\n",
    "    # datalake storage\n",
    "    file = dlake.get_file_client(file_system, f'events/{event.sequence_number}')\n",
    "    file.upload_data(event.body_as_str(), overwrite=True)\n",
    "    # If the operation is i/o intensive, multi-thread will have better performance.\n",
    "    logger.info(\"Received event from partition: {}\".format(partition_context.partition_id))\n",
    "    mins = (time.time() - start) / 60\n",
    "    if mins > 1:\n",
    "        consumer.close()\n",
    "\n",
    "\n",
    "with consumer:\n",
    "    consumer.receive(\n",
    "        on_event=on_event,\n",
    "#         partition_id=0\n",
    "        prefetch=300,\n",
    "        starting_position=\"@latest\",   # \"@latest\" for receiving only new events.\n",
    "#         starting_position=-1,  \n",
    "    )"
   ]
  },
  {
   "cell_type": "code",
   "execution_count": 88,
   "metadata": {},
   "outputs": [
    {
     "data": {
      "text/plain": [
       "EventData(body='nb Event 1', properties=None, offset=2157048, sequence_number=26996, partition_key=None, enqueued_time=datetime.datetime(2021, 1, 3, 5, 32, 6, 419000, tzinfo=datetime.timezone.utc))"
      ]
     },
     "execution_count": 88,
     "metadata": {},
     "output_type": "execute_result"
    }
   ],
   "source": [
    "eventobj "
   ]
  },
  {
   "cell_type": "code",
   "execution_count": 89,
   "metadata": {},
   "outputs": [
    {
     "data": {
      "text/plain": [
       "'nb Event 1'"
      ]
     },
     "execution_count": 89,
     "metadata": {},
     "output_type": "execute_result"
    }
   ],
   "source": [
    "eventobj.body_as_str()"
   ]
  },
  {
   "cell_type": "code",
   "execution_count": 90,
   "metadata": {},
   "outputs": [
    {
     "data": {
      "text/plain": [
       "26996"
      ]
     },
     "execution_count": 90,
     "metadata": {},
     "output_type": "execute_result"
    }
   ],
   "source": [
    "eventobj.sequence_number"
   ]
  },
  {
   "cell_type": "code",
   "execution_count": 96,
   "metadata": {},
   "outputs": [
    {
     "data": {
      "text/plain": [
       "{'date': datetime.datetime(2021, 1, 3, 5, 36, 47, tzinfo=datetime.timezone.utc),\n",
       " 'etag': '\"0x8D8AFA990CB6EA5\"',\n",
       " 'last_modified': datetime.datetime(2021, 1, 3, 5, 36, 48, tzinfo=datetime.timezone.utc),\n",
       " 'content_length': 0,\n",
       " 'client_request_id': 'ac7a4c22-4d85-11eb-89ac-acde48001122',\n",
       " 'request_id': 'b3fd4c4a-a01f-0016-3392-e11007000000',\n",
       " 'version': '2020-02-10'}"
      ]
     },
     "execution_count": 96,
     "metadata": {},
     "output_type": "execute_result"
    }
   ],
   "source": [
    "file = dlake.get_file_client(file_system, f'testlog/{eventobj.sequence_number}')\n",
    "file.upload_data(eventobj.body_as_str(), overwrite=True)"
   ]
  },
  {
   "cell_type": "code",
   "execution_count": 95,
   "metadata": {},
   "outputs": [
    {
     "data": {
      "text/plain": [
       "{'date': datetime.datetime(2021, 1, 3, 5, 36, 35, tzinfo=datetime.timezone.utc),\n",
       " 'etag': '\"0x8D8AFA9895A224E\"',\n",
       " 'last_modified': datetime.datetime(2021, 1, 3, 5, 36, 36, tzinfo=datetime.timezone.utc),\n",
       " 'content_length': 0,\n",
       " 'client_request_id': 'a5076eac-4d85-11eb-89ac-acde48001122',\n",
       " 'request_id': 'b3fd4c3d-a01f-0016-2c92-e11007000000',\n",
       " 'version': '2020-02-10'}"
      ]
     },
     "execution_count": 95,
     "metadata": {},
     "output_type": "execute_result"
    }
   ],
   "source": [
    "file.upload_data(b'asdf', overwrite=True)"
   ]
  }
 ],
 "metadata": {
  "kernelspec": {
   "display_name": "Python 3",
   "language": "python",
   "name": "python3"
  },
  "language_info": {
   "codemirror_mode": {
    "name": "ipython",
    "version": 3
   },
   "file_extension": ".py",
   "mimetype": "text/x-python",
   "name": "python",
   "nbconvert_exporter": "python",
   "pygments_lexer": "ipython3",
   "version": "3.7.9"
  },
  "toc": {
   "base_numbering": 1,
   "nav_menu": {},
   "number_sections": true,
   "sideBar": true,
   "skip_h1_title": false,
   "title_cell": "Contents",
   "title_sidebar": "Contents",
   "toc_cell": false,
   "toc_position": {},
   "toc_section_display": true,
   "toc_window_display": false
  }
 },
 "nbformat": 4,
 "nbformat_minor": 4
}
